{
 "cells": [
  {
   "cell_type": "code",
   "execution_count": 1,
   "metadata": {},
   "outputs": [],
   "source": [
    "# Importing Libraries and Image to Work on\n",
    "import cv2 as cv\n",
    "import numpy as np\n",
    "image = cv.imread(\"ImageAssignment.jpg\" , 0)"
   ]
  },
  {
   "cell_type": "markdown",
   "metadata": {},
   "source": [
    "Implementing First ForwardPass"
   ]
  },
  {
   "cell_type": "code",
   "execution_count": 2,
   "metadata": {},
   "outputs": [],
   "source": [
    "# Converting Image into Binary Image only having two values 0 or 255\n",
    "label = 1\n",
    "originalImage = image.copy()\n",
    "_ , image = cv.threshold(image , 110 , 255 , cv.THRESH_BINARY)\n",
    "height , width = image.shape\n",
    "for i in range(height):\n",
    "    for j in range(width):\n",
    "        if image[i , j] == 255:\n",
    "            if image[i , j - 1] !=0 and image[i , j - 1]!= 255:\n",
    "                image[i , j] = image[i , j - 1]\n",
    "            elif image[i - 1 , j] !=0 and image[i - 1, j]!= 255:\n",
    "                image[i , j] = image[i - 1, j]\n",
    "            elif image[i - 1 , j -1] !=0 and image[i - 1, j -1]!= 255:\n",
    "                image[i , j] = image[i - 1 , j - 1]\n",
    "            else:\n",
    "                image[i , j] = label\n",
    "                label += 1"
   ]
  },
  {
   "cell_type": "markdown",
   "metadata": {},
   "source": [
    "Implementing Second ForwardPass"
   ]
  },
  {
   "cell_type": "code",
   "execution_count": 9,
   "metadata": {},
   "outputs": [],
   "source": [
    "for i in range(height):\n",
    "    for j in range(width):\n",
    "        \n",
    "        if image[i,j]>0:\n",
    "            if image[i,j-1] != 0:\n",
    "                image = np.where(image==image[i,j-1], image[i,j],image)\n",
    "            if image[i-1,j] !=0 :\n",
    "                image = np.where(image==image[i-1,j], image[i,j],image)\n",
    "            if image[i - 1 , j - 1] != 0:\n",
    "                image = np.where(image == image[i - 1 , j - 1] , image[i , j] , image)"
   ]
  },
  {
   "cell_type": "markdown",
   "metadata": {},
   "source": [
    "Creating an Array to Store all connected pixel labels "
   ]
  },
  {
   "cell_type": "code",
   "execution_count": 10,
   "metadata": {},
   "outputs": [
    {
     "name": "stdout",
     "output_type": "stream",
     "text": [
      "[33, 45, 70, 80, 109, 116, 141, 144]\n"
     ]
    }
   ],
   "source": [
    "pixelArray = []\n",
    "for i in range(height):\n",
    "    for j in range(width):\n",
    "        if (image[i,j] != 0):\n",
    "            if (image[i,j] not in pixelArray):\n",
    "                pixelArray.append(image[i,j])\n",
    "            else:\n",
    "                continue\n",
    "\n",
    "print(pixelArray)"
   ]
  },
  {
   "cell_type": "code",
   "execution_count": 11,
   "metadata": {},
   "outputs": [
    {
     "data": {
      "text/plain": [
       "-1"
      ]
     },
     "execution_count": 11,
     "metadata": {},
     "output_type": "execute_result"
    }
   ],
   "source": [
    "coloredImage = cv.cvtColor(image, cv.COLOR_GRAY2BGR)\n",
    "for i in pixelArray:\n",
    "    color = np.random.randint(100, 255, size=3)\n",
    "    coloredImage[image == i] = color\n",
    "cv.imshow(\"Original Image\",originalImage)\n",
    "cv.imshow(\"Output Image\",coloredImage)\n",
    "cv.waitKey(0)"
   ]
  },
  {
   "cell_type": "code",
   "execution_count": null,
   "metadata": {},
   "outputs": [],
   "source": []
  }
 ],
 "metadata": {
  "kernelspec": {
   "display_name": "Python 3",
   "language": "python",
   "name": "python3"
  },
  "language_info": {
   "codemirror_mode": {
    "name": "ipython",
    "version": 3
   },
   "file_extension": ".py",
   "mimetype": "text/x-python",
   "name": "python",
   "nbconvert_exporter": "python",
   "pygments_lexer": "ipython3",
   "version": "3.11.6"
  }
 },
 "nbformat": 4,
 "nbformat_minor": 2
}
