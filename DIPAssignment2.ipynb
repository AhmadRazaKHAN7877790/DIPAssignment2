{
 "cells": [
  {
   "cell_type": "code",
   "execution_count": 2,
   "metadata": {},
   "outputs": [],
   "source": [
    "# Importing Libraries and Image to Work on\n",
    "import cv2 as cv\n",
    "import numpy as np\n",
    "image = cv.imread(\"ImageAssignment.jpg\" , 0)"
   ]
  },
  {
   "cell_type": "markdown",
   "metadata": {},
   "source": [
    "Implementing First ForwardPass"
   ]
  },
  {
   "cell_type": "code",
   "execution_count": 3,
   "metadata": {},
   "outputs": [],
   "source": [
    "# Converting Image into Binary Image only having two values 0 or 255\n",
    "label = 1\n",
    "_ , image = cv.threshold(image , 110 , 255 , cv.THRESH_BINARY)\n",
    "height , width = image.shape\n",
    "for i in range(height):\n",
    "    for j in range(width):\n",
    "        if image[i , j] == 255:\n",
    "            if image[i , j - 1] !=0 and image[i , j - 1]!= 255:\n",
    "                image[i , j] = image[i , j - 1]\n",
    "            elif image[i - 1 , j] !=0 and image[i - 1, j]!= 255:\n",
    "                image[i , j] = image[i - 1, j]\n",
    "            elif image[i - 1 , j -1] !=0 and image[i - 1, j -1]!= 255:\n",
    "                image[i , j] = image[i - 1 , j - 1]\n",
    "            else:\n",
    "                image[i , j] = label\n",
    "                label += 1\n"
   ]
  },
  {
   "cell_type": "code",
   "execution_count": 4,
   "metadata": {},
   "outputs": [],
   "source": [
    "for i in range(height):\n",
    "    for j in range(width):\n",
    "        \n",
    "        if (image[i,j]>0):\n",
    "            if(image[i,j-1]!= 0):\n",
    "                image = np.where(image==image[i,j-1], image[i,j],image)\n",
    "            if(image[i-1,j]!=0):\n",
    "                image = np.where(image==image[i-1,j], image[i,j],image)\n",
    "            if( (j+1)<width):\n",
    "                if(image[i-1,j+1]!=0):\n",
    "                    image =      np.where(image==image[i-1,j+1], image[i,j],image)\n",
    "            if(i+1<height and j-1>0):\n",
    "                if(image[i+1,j-1]!=0):\n",
    "                    image =   np.where(image==image[i+1,j-1], image[i,j],image)"
   ]
  },
  {
   "cell_type": "code",
   "execution_count": 5,
   "metadata": {},
   "outputs": [
    {
     "name": "stdout",
     "output_type": "stream",
     "text": [
      "[5, 11, 55, 52, 81, 83, 117, 126]\n"
     ]
    }
   ],
   "source": [
    "pixelArray = []\n",
    "for i in range(height):\n",
    "    for j in range(width):\n",
    "        if (image[i,j] != 0):\n",
    "            if (image[i,j] not in pixelArray):\n",
    "                pixelArray.append(image[i,j])\n",
    "            else:\n",
    "                continue\n",
    "\n",
    "print(pixelArray)"
   ]
  },
  {
   "cell_type": "code",
   "execution_count": 7,
   "metadata": {},
   "outputs": [
    {
     "data": {
      "text/plain": [
       "-1"
      ]
     },
     "execution_count": 7,
     "metadata": {},
     "output_type": "execute_result"
    }
   ],
   "source": [
    "coloredImage = cv.cvtColor(image, cv.COLOR_GRAY2BGR)\n",
    "\n",
    "\n",
    "for i in pixelArray:\n",
    "    color = np.random.randint(100, 255, size=3)\n",
    "    coloredImage[image == i] = color\n",
    "cv.imshow(\"image\",image)\n",
    "cv.imshow(\"rgb\",coloredImage)\n",
    "cv.waitKey(0)"
   ]
  },
  {
   "cell_type": "code",
   "execution_count": null,
   "metadata": {},
   "outputs": [],
   "source": []
  }
 ],
 "metadata": {
  "kernelspec": {
   "display_name": "Python 3",
   "language": "python",
   "name": "python3"
  },
  "language_info": {
   "codemirror_mode": {
    "name": "ipython",
    "version": 3
   },
   "file_extension": ".py",
   "mimetype": "text/x-python",
   "name": "python",
   "nbconvert_exporter": "python",
   "pygments_lexer": "ipython3",
   "version": "3.11.6"
  }
 },
 "nbformat": 4,
 "nbformat_minor": 2
}
